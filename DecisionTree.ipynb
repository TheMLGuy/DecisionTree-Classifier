{
 "cells": [
  {
   "cell_type": "raw",
   "metadata": {},
   "source": [
    "Import libraries\n",
    "\n",
    "Aradhya Gupta, Ashwin Venkatesha INF 552"
   ]
  },
  {
   "cell_type": "code",
   "execution_count": 1,
   "metadata": {
    "collapsed": false
   },
   "outputs": [],
   "source": [
    "import pandas as pd\n",
    "import numpy as np\n",
    "import math\n",
    "import TreeNode"
   ]
  },
  {
   "cell_type": "markdown",
   "metadata": {},
   "source": [
    "Class DecisionTree with all helper functions"
   ]
  },
  {
   "cell_type": "code",
   "execution_count": 2,
   "metadata": {
    "collapsed": false
   },
   "outputs": [],
   "source": [
    "class DecisionTree:\n",
    "    \n",
    "    #preprocess data\n",
    "    def preprocessData(self,filename):\n",
    "        data=pd.read_csv(filename, sep=\" \", header=None)\n",
    "        data.columns=['index','occupied','prices','music','location','VIP','favorite beer','Enjoy']\n",
    "        data=data[1:]\n",
    "        data=data.drop('index',axis=1)\n",
    "        data['occupied']=data['occupied'].str.replace(',','')\n",
    "        data['prices']=data['prices'].str.replace(',','')\n",
    "        data['music']=data['music'].str.replace(',','')\n",
    "        data['location']=data['location'].str.replace(',','')\n",
    "        data['VIP']=data['VIP'].str.replace(',','')\n",
    "        data['favorite beer']=data['favorite beer'].str.replace(',','')\n",
    "        data['Enjoy']=data['Enjoy'].str.replace(';','')\n",
    "        #shuffle data\n",
    "        #data=data.sample(frac=1).reset_index(drop=True)\n",
    "        training_data=data[0:17]\n",
    "        training_label=data.iloc[0:17,6]\n",
    "        attributes=list(data.columns)\n",
    "        target=attributes[-1]\n",
    "        training_data=training_data.values.tolist()\n",
    "        testingData=data.ix[17:21,0:6]\n",
    "        test_labels=data.ix[17:21,6]\n",
    "        testingData=testingData.values.tolist()\n",
    "        return training_data, testingData, attributes, target, test_labels, data, training_label\n",
    "    \n",
    "    #calculate entropy\n",
    "    def entropy(self,attributes, data, targetAttr):\n",
    "        valFreq = {}\n",
    "        dataEntropy = 0.0\n",
    "        #find index of the target attribute\n",
    "        i = 0\n",
    "        i=attributes.index(targetAttr)\n",
    "    \n",
    "        # Calculate the frequency of each of the values in the target attr\n",
    "        for entry in data:\n",
    "            if entry[i] in valFreq:\n",
    "                valFreq[entry[i]] += 1.0\n",
    "            else:\n",
    "                valFreq[entry[i]]  = 1.0\n",
    "\n",
    "        # Calculate the entropy of the data for the target attr\n",
    "        for freq in valFreq.values():\n",
    "            dataEntropy += (-freq/len(data)) * math.log(freq/len(data), 2) \n",
    "        \n",
    "        return dataEntropy\n",
    "    \n",
    "    #calculate gain\n",
    "    def gain(self,attributes, data, attr, targetAttr):\n",
    "      \n",
    "        valFreq = {}\n",
    "        subsetEntropy = 0.0\n",
    "    \n",
    "        #find index of the attribute\n",
    "        i = attributes.index(attr)\n",
    "\n",
    "        # Calculate the frequency of each of the values in the target attribute\n",
    "        for entry in data:\n",
    "            if entry[i] in valFreq:\n",
    "                valFreq[entry[i]] += 1.0\n",
    "            else:\n",
    "                valFreq[entry[i]]  = 1.0\n",
    "        # Calculate the sum of the entropy for each subset of records weighted\n",
    "        # by their probability of occuring in the training set.\n",
    "        for val in valFreq.keys():\n",
    "            valProb        = valFreq[val] / sum(valFreq.values())\n",
    "            dataSubset     = [entry for entry in data if entry[i] == val]\n",
    "            subsetEntropy += valProb * self.entropy(attributes, dataSubset, targetAttr)\n",
    "\n",
    "        # Subtract the entropy of the chosen attribute from the entropy of the\n",
    "        # whole data set with respect to the target attribute (and return it)\n",
    "        return (self.entropy(attributes, data, targetAttr) - subsetEntropy)\n",
    "    \n",
    "    #return attribute with max gain\n",
    "    def chooseAttr(self,data, attributes, target):\n",
    "        best = attributes[0]\n",
    "        maxGain = 0;\n",
    "        priority=['occupied', 'prices','music','location','VIP','favorite beer']\n",
    "        for attr in attributes:\n",
    "            if attr!='Enjoy':\n",
    "                newGain = self.gain(attributes, data, attr, target) \n",
    "                if newGain==maxGain:\n",
    "                    if priority.index(attr)>priority.index(best):\n",
    "                        best=attr\n",
    "                        maxGain=newGain\n",
    "                    \n",
    "                elif newGain>maxGain:\n",
    "                    maxGain = newGain\n",
    "                    best = attr\n",
    "        return best\n",
    "\n",
    "    #get values in the column of the given attribute \n",
    "    def getSubClasses(self,data, attributes, attr):\n",
    "        index = attributes.index(attr)\n",
    "        values = []\n",
    "        for entry in data:\n",
    "            if entry[index] not in values:\n",
    "                values.append(entry[index])\n",
    "        return values\n",
    "\n",
    "    #return rows corresponding to a sub class of an attribute\n",
    "    def getRowsCorrespondingToSubClassOfAttribute(self,data, attributes, best, val):\n",
    "        examples = [[]]\n",
    "        index = attributes.index(best)\n",
    "        for entry in data:\n",
    "            #find entries with the give value\n",
    "            if (entry[index] == val):\n",
    "                newEntry = []\n",
    "                #add value if it is not in best column\n",
    "                for i in range(0,len(entry)):\n",
    "                    if(i != index):\n",
    "                        newEntry.append(entry[i])\n",
    "                examples.append(newEntry)\n",
    "        examples.remove([])\n",
    "        return examples\n",
    "\n",
    "    #return attribute whose occurence is max\n",
    "    def majority(self,data,attributes,target):\n",
    "        valFreq={}\n",
    "        index=attributes.index(target)\n",
    "\n",
    "        for v in data:\n",
    "            if v[index] in valFreq:\n",
    "                valFreq[v[index]]+=1\n",
    "            else:\n",
    "                valFreq[v[index]]=1\n",
    "        maxAttr=0\n",
    "        major=\"\" \n",
    "        for key in valFreq.keys():\n",
    "            if valFreq[key]==maxAttr:\n",
    "                major='Tie'\n",
    "             \n",
    "            if valFreq[key]>maxAttr:\n",
    "                major=key\n",
    "                maxAttr=valFreq[key]\n",
    "                \n",
    "        return major\n",
    "\n",
    "    #generate decision tree recursively\n",
    "    def generateTree(self,data, attributes, target, recursion):\n",
    "        recursion+=1\n",
    "        data=data[:]\n",
    "        vals=[record[attributes.index(target)] for record in data]\n",
    "        default=self.majority(data, attributes, target)\n",
    "        if not data or len(attributes)-1 <=0:\n",
    "            return default\n",
    "        elif vals.count(vals[0])==len(vals):\n",
    "            return vals[0]\n",
    "        else:\n",
    "            best=self.chooseAttr(data, attributes, target)\n",
    "            tree= {best:{}}\n",
    "        \n",
    "            for val in self.getSubClasses(data, attributes, best):\n",
    "                examples=self.getRowsCorrespondingToSubClassOfAttribute(data,attributes, best, val)\n",
    "                newattr=attributes[:]\n",
    "                newattr.remove(best)\n",
    "                subtree=self.generateTree(examples, newattr, target, recursion)\n",
    "                tree[best][val]=subtree\n",
    "            \n",
    "        return tree\n",
    "\n",
    "    #predict output of test data\n",
    "    def predictOutput(self,testdata, attributes):\n",
    "        count=0\n",
    "        res=[]\n",
    "        for entry in testdata:\n",
    "            count+=1\n",
    "            tempD=dict_.copy()\n",
    "            result=\"\"\n",
    "            while isinstance(tempD, dict):\n",
    "                root=TreeNode.TreeNode(list(tempD.keys())[0], tempD[list(tempD.keys())[0]])\n",
    "                tempD=tempD.get(list(tempD.keys())[0])\n",
    "                index=attributes.index(str(root.value))\n",
    "                value=entry[index]\n",
    "                if value in tempD.keys():\n",
    "                    child=TreeNode.TreeNode(value, tempD[value])\n",
    "                    result=tempD[value]\n",
    "                    tempD=tempD[value]\n",
    "                else:\n",
    "                    print('No data')\n",
    "                    result=\"Tie\"\n",
    "                    break\n",
    "            \n",
    "            res.append(result)\n",
    "        return res    "
   ]
  },
  {
   "cell_type": "markdown",
   "metadata": {},
   "source": [
    "Create object and call DecisionTree()"
   ]
  },
  {
   "cell_type": "code",
   "execution_count": 3,
   "metadata": {
    "collapsed": false
   },
   "outputs": [],
   "source": [
    "obj=DecisionTree()\n",
    "training_data, testing_data, attributes, target, test_labels, data, training_label=obj.preprocessData(\"dt-data.txt\")"
   ]
  },
  {
   "cell_type": "markdown",
   "metadata": {},
   "source": [
    "Print testing data, labels"
   ]
  },
  {
   "cell_type": "code",
   "execution_count": 4,
   "metadata": {
    "collapsed": false
   },
   "outputs": [
    {
     "data": {
      "text/plain": [
       "[['High', 'Cheap', 'Loud', 'City-Center', 'No', 'Yes'],\n",
       " ['Low', 'Normal', 'Quiet', 'City-Center', 'No', 'No'],\n",
       " ['Low', 'Expensive', 'Loud', 'Mahane-Yehuda', 'No', 'No'],\n",
       " ['Moderate', 'Normal', 'Quiet', 'Talpiot', 'No', 'No'],\n",
       " ['Low', 'Normal', 'Quiet', 'City-Center', 'No', 'No']]"
      ]
     },
     "execution_count": 4,
     "metadata": {},
     "output_type": "execute_result"
    }
   ],
   "source": [
    "testing_data"
   ]
  },
  {
   "cell_type": "code",
   "execution_count": 5,
   "metadata": {
    "collapsed": false
   },
   "outputs": [
    {
     "data": {
      "text/plain": [
       "1      No\n",
       "2     Yes\n",
       "3     Yes\n",
       "4      No\n",
       "5     Yes\n",
       "6     Yes\n",
       "7      No\n",
       "8     Yes\n",
       "9     Yes\n",
       "10     No\n",
       "11     No\n",
       "12     No\n",
       "13    Yes\n",
       "14    Yes\n",
       "15    Yes\n",
       "16     No\n",
       "17    Yes\n",
       "Name: Enjoy, dtype: object"
      ]
     },
     "execution_count": 5,
     "metadata": {},
     "output_type": "execute_result"
    }
   ],
   "source": [
    "training_label\n"
   ]
  },
  {
   "cell_type": "code",
   "execution_count": 6,
   "metadata": {
    "collapsed": false
   },
   "outputs": [
    {
     "data": {
      "text/plain": [
       "17    Yes\n",
       "18     No\n",
       "19     No\n",
       "20    Yes\n",
       "21    Yes\n",
       "Name: Enjoy, dtype: object"
      ]
     },
     "execution_count": 6,
     "metadata": {},
     "output_type": "execute_result"
    }
   ],
   "source": [
    "test_labels"
   ]
  },
  {
   "cell_type": "code",
   "execution_count": 7,
   "metadata": {
    "collapsed": false
   },
   "outputs": [],
   "source": [
    "dict_=obj.generateTree(training_data,attributes, target,0)"
   ]
  },
  {
   "cell_type": "markdown",
   "metadata": {},
   "source": [
    "Print tree in json format"
   ]
  },
  {
   "cell_type": "code",
   "execution_count": 8,
   "metadata": {
    "collapsed": false
   },
   "outputs": [
    {
     "data": {
      "text/plain": [
       "{'location': {'City-Center': {'occupied': {'High': 'Yes',\n",
       "    'Low': 'No',\n",
       "    'Moderate': 'Yes'}},\n",
       "  'Ein-Karem': {'occupied': {'Low': 'No', 'Moderate': 'Yes'}},\n",
       "  'German-Colony': {'favorite beer': {'No': 'No', 'Yes': 'Yes'}},\n",
       "  'Mahane-Yehuda': 'Yes',\n",
       "  'Talpiot': 'No'}}"
      ]
     },
     "execution_count": 8,
     "metadata": {},
     "output_type": "execute_result"
    }
   ],
   "source": [
    "dict_"
   ]
  },
  {
   "cell_type": "markdown",
   "metadata": {},
   "source": [
    "Accuracy"
   ]
  },
  {
   "cell_type": "code",
   "execution_count": 9,
   "metadata": {
    "collapsed": false
   },
   "outputs": [
    {
     "data": {
      "text/plain": [
       "40.0"
      ]
     },
     "execution_count": 9,
     "metadata": {},
     "output_type": "execute_result"
    }
   ],
   "source": [
    "sum(test_labels==obj.predictOutput(testing_data,[a for a in attributes if a!='Enjoy']))/len(test_labels)*100"
   ]
  },
  {
   "cell_type": "markdown",
   "metadata": {},
   "source": [
    "Accuracy on training set, fits too perfectly? Clear case of overfitting"
   ]
  },
  {
   "cell_type": "code",
   "execution_count": 12,
   "metadata": {
    "collapsed": false
   },
   "outputs": [
    {
     "data": {
      "text/plain": [
       "100.0"
      ]
     },
     "execution_count": 12,
     "metadata": {},
     "output_type": "execute_result"
    }
   ],
   "source": [
    "res=obj.predictOutput(training_data,[a for a in attributes if a!='Enjoy'])\n",
    "sum(training_label==res)/len(training_label)*100"
   ]
  },
  {
   "cell_type": "markdown",
   "metadata": {},
   "source": [
    "Predict outcome of ['Moderate','Cheap','Loud','City-Center','No','No']"
   ]
  },
  {
   "cell_type": "code",
   "execution_count": 13,
   "metadata": {
    "collapsed": false
   },
   "outputs": [
    {
     "data": {
      "text/plain": [
       "['Yes']"
      ]
     },
     "execution_count": 13,
     "metadata": {},
     "output_type": "execute_result"
    }
   ],
   "source": [
    "obj.predictOutput([['Moderate','Cheap','Loud','City-Center','No','No']],attributes)"
   ]
  }
 ],
 "metadata": {
  "anaconda-cloud": {},
  "kernelspec": {
   "display_name": "Python [conda root]",
   "language": "python",
   "name": "conda-root-py"
  },
  "language_info": {
   "codemirror_mode": {
    "name": "ipython",
    "version": 3
   },
   "file_extension": ".py",
   "mimetype": "text/x-python",
   "name": "python",
   "nbconvert_exporter": "python",
   "pygments_lexer": "ipython3",
   "version": "3.5.2"
  }
 },
 "nbformat": 4,
 "nbformat_minor": 1
}
